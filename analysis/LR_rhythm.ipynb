{
 "cells": [
  {
   "cell_type": "markdown",
   "metadata": {},
   "source": [
    "### Likelihood ratio tests\n",
    "\n",
    "This notebook performs the likelihood ratio test on the three valid fits to the distribution of relative rhythmic bigram ranks."
   ]
  },
  {
   "cell_type": "code",
   "execution_count": 1,
   "metadata": {},
   "outputs": [],
   "source": [
    "import pandas as pd\n",
    "import numpy as np\n",
    "import powerlaw as pl\n",
    "from IPython.utils import io\n",
    "import matplotlib.pyplot as plt\n",
    "from distributions import Exponential, Lognormal, Positive_lognormal, Stretched_exponential, Powerlaw"
   ]
  },
  {
   "cell_type": "code",
   "execution_count": 2,
   "metadata": {},
   "outputs": [],
   "source": [
    "rhythm_ranks = pd.read_csv('../data/rhythm_ranks.csv')['ranks']"
   ]
  },
  {
   "cell_type": "code",
   "execution_count": 28,
   "metadata": {},
   "outputs": [],
   "source": [
    "def likelihood_ratio_tests(fit, fit_dist):\n",
    "    distributions = ['power_law', 'lognormal', 'lognormal_positive', \n",
    "                     'truncated_power_law', 'stretched_exponential', 'exponential']\n",
    "    for dist in distributions:\n",
    "        if dist == fit_dist:\n",
    "            continue\n",
    "        with io.capture_output() as captured:\n",
    "            try:\n",
    "                res = fit.distribution_compare(fit_dist, dist)\n",
    "            except ZeroDivisionError:\n",
    "                res = (-1,-1) \n",
    "        print(dist, ':', res)\n",
    "        if res[0] == -1:\n",
    "            print('- zero division error when comparing to ', dist)\n",
    "        if res[1] > 0.05:\n",
    "            # test not statistically significant\n",
    "            print('- test between',fit_dist,' and ', dist, ' not statistically significant')\n",
    "        else:\n",
    "            if res[0] < 0:\n",
    "                # alternative dist favoured\n",
    "                print('-', dist, 'favoured over',fit_dist)\n",
    "            else:\n",
    "                print('- ', fit_dist,' favoured over', dist)\n",
    "                \n",
    "    return 0"
   ]
  },
  {
   "cell_type": "markdown",
   "metadata": {},
   "source": [
    "### Exponential $x_{min} = 27$"
   ]
  },
  {
   "cell_type": "code",
   "execution_count": 29,
   "metadata": {},
   "outputs": [],
   "source": [
    "fit = pl.Fit(rhythm_ranks, xmin=27, discrete=True)"
   ]
  },
  {
   "cell_type": "code",
   "execution_count": 30,
   "metadata": {},
   "outputs": [
    {
     "name": "stdout",
     "output_type": "stream",
     "text": [
      "power_law : (24.627675185666956, 2.183496960652464e-07)\n",
      "-  exponential  favoured over power_law\n",
      "lognormal : (2.470673260407804, 0.0013928111761822104)\n",
      "-  exponential  favoured over lognormal\n",
      "lognormal_positive : (2.470673260407804, 0.0013928111761822104)\n",
      "-  exponential  favoured over lognormal_positive\n",
      "truncated_power_law : (2.444643829786844, 0.08012499792836397)\n",
      "- test between exponential  and  truncated_power_law  not statistically significant\n",
      "stretched_exponential : (-0.5025634964709456, 0.31607309776603865)\n",
      "- test between exponential  and  stretched_exponential  not statistically significant\n"
     ]
    },
    {
     "data": {
      "text/plain": [
       "0"
      ]
     },
     "execution_count": 30,
     "metadata": {},
     "output_type": "execute_result"
    }
   ],
   "source": [
    "likelihood_ratio_tests(fit, 'exponential')"
   ]
  },
  {
   "cell_type": "markdown",
   "metadata": {},
   "source": [
    "### Stretched_exponential $x_{min} = 31$"
   ]
  },
  {
   "cell_type": "code",
   "execution_count": 31,
   "metadata": {},
   "outputs": [],
   "source": [
    "fit = pl.Fit(rhythm_ranks, xmin=31, discrete=True)"
   ]
  },
  {
   "cell_type": "code",
   "execution_count": 32,
   "metadata": {},
   "outputs": [
    {
     "data": {
      "text/plain": [
       "(0.03249199356916668, 1.4041128758404728)"
      ]
     },
     "execution_count": 32,
     "metadata": {},
     "output_type": "execute_result"
    }
   ],
   "source": [
    "fit.stretched_exponential.Lambda, fit.stretched_exponential.beta"
   ]
  },
  {
   "cell_type": "code",
   "execution_count": 33,
   "metadata": {},
   "outputs": [
    {
     "name": "stdout",
     "output_type": "stream",
     "text": [
      "power_law : (23.908462077208164, 7.483881437243601e-06)\n",
      "-  stretched_exponential  favoured over power_law\n",
      "lognormal : (2.4229421848294894, 0.0007571349129786556)\n",
      "-  stretched_exponential  favoured over lognormal\n",
      "lognormal_positive : (2.4229421848294894, 0.0007571349129786556)\n",
      "-  stretched_exponential  favoured over lognormal_positive\n",
      "truncated_power_law : (5.081695413455158, 0.05950007687469179)\n",
      "- test between stretched_exponential  and  truncated_power_law  not statistically significant\n",
      "exponential : (2.0906066268877206, 0.04087442991798307)\n",
      "-  stretched_exponential  favoured over exponential\n"
     ]
    },
    {
     "data": {
      "text/plain": [
       "0"
      ]
     },
     "execution_count": 33,
     "metadata": {},
     "output_type": "execute_result"
    }
   ],
   "source": [
    "likelihood_ratio_tests(fit, 'stretched_exponential')"
   ]
  },
  {
   "cell_type": "markdown",
   "metadata": {},
   "source": [
    "### Powerlaw with exponential cut-off $x_{min} = 22$"
   ]
  },
  {
   "cell_type": "code",
   "execution_count": 34,
   "metadata": {},
   "outputs": [],
   "source": [
    "fit = pl.Fit(rhythm_ranks, xmin=22, discrete=True)"
   ]
  },
  {
   "cell_type": "code",
   "execution_count": 35,
   "metadata": {},
   "outputs": [
    {
     "data": {
      "text/plain": [
       "(1.0000467812358518, 0.038568299121796615)"
      ]
     },
     "execution_count": 35,
     "metadata": {},
     "output_type": "execute_result"
    }
   ],
   "source": [
    "fit.truncated_power_law.alpha, fit.truncated_power_law.Lambda"
   ]
  },
  {
   "cell_type": "code",
   "execution_count": 36,
   "metadata": {},
   "outputs": [
    {
     "name": "stdout",
     "output_type": "stream",
     "text": [
      "power_law : (24.78908292798087, 1.9062529332813938e-12)\n",
      "-  truncated_power_law  favoured over power_law\n",
      "lognormal : (3.7655411024450145, 1.3188544184969003e-06)\n",
      "-  truncated_power_law  favoured over lognormal\n",
      "lognormal_positive : (3.7655411024450145, 1.3188544184969003e-06)\n",
      "-  truncated_power_law  favoured over lognormal_positive\n",
      "stretched_exponential : (0.4494676952404655, 0.6245737190617056)\n",
      "- test between truncated_power_law  and  stretched_exponential  not statistically significant\n",
      "exponential : (1.3329784107618092, 0.51402815598214)\n",
      "- test between truncated_power_law  and  exponential  not statistically significant\n"
     ]
    },
    {
     "data": {
      "text/plain": [
       "0"
      ]
     },
     "execution_count": 36,
     "metadata": {},
     "output_type": "execute_result"
    }
   ],
   "source": [
    "likelihood_ratio_tests(fit, 'truncated_power_law')"
   ]
  }
 ],
 "metadata": {
  "kernelspec": {
   "display_name": "Python 3",
   "language": "python",
   "name": "python3"
  },
  "language_info": {
   "codemirror_mode": {
    "name": "ipython",
    "version": 3
   },
   "file_extension": ".py",
   "mimetype": "text/x-python",
   "name": "python",
   "nbconvert_exporter": "python",
   "pygments_lexer": "ipython3",
   "version": "3.7.6"
  }
 },
 "nbformat": 4,
 "nbformat_minor": 4
}
