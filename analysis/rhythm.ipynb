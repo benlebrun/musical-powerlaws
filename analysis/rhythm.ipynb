{
 "cells": [
  {
   "cell_type": "markdown",
   "metadata": {},
   "source": [
    "# Rhythmic distributions\n",
    "\n",
    "Date: September 29th, 2020.\n",
    "Author: Benjamin LeBrun.\n",
    "\n",
    "In this notebook, we assess goodness-of-fit to the regional distributions of rhythmic bigrams. To do so, we first look at goodness of fit $p$-values obtained from a semi-parametric bootstrap (see `bootstrap.py`). Then, for each fit, if $p > 0.1$, we compare it to all other alternative distributions for the region above the corresponding $\\hat{x}_{min}$."
   ]
  },
  {
   "cell_type": "code",
   "execution_count": 58,
   "metadata": {},
   "outputs": [],
   "source": [
    "import pandas as pd\n",
    "import numpy as np\n",
    "import os\n",
    "import powerlaw as pl\n",
    "from IPython.utils import io\n",
    "from tqdm.notebook import tqdm"
   ]
  },
  {
   "cell_type": "code",
   "execution_count": 59,
   "metadata": {},
   "outputs": [],
   "source": [
    "from distributions import Powerlaw, Exponential, Lognormal, Stretched_exponential, Powerlaw_with_cutoff"
   ]
  },
  {
   "cell_type": "code",
   "execution_count": 65,
   "metadata": {},
   "outputs": [],
   "source": [
    "data_source = '../data/rhythm/'\n",
    "boot_source = 'bootstrap/rhythm/'"
   ]
  },
  {
   "cell_type": "markdown",
   "metadata": {},
   "source": [
    "## 1. Goodness-of-fit $p$-values and parameter estimates"
   ]
  },
  {
   "cell_type": "code",
   "execution_count": 169,
   "metadata": {},
   "outputs": [],
   "source": [
    "# map names to corresponding distribution objects\n",
    "dist_dict = {'powerlaw': Powerlaw, 'exponential': Exponential, \n",
    "             'lognormal': Lognormal, 'stretched_exponential': Stretched_exponential,\n",
    "            'truncated_power_law': Powerlaw_with_cutoff}"
   ]
  },
  {
   "cell_type": "code",
   "execution_count": 170,
   "metadata": {},
   "outputs": [
    {
     "data": {
      "application/vnd.jupyter.widget-view+json": {
       "model_id": "45331781389f4ebda8b3b55897f1e5f5",
       "version_major": 2,
       "version_minor": 0
      },
      "text/plain": [
       "HBox(children=(FloatProgress(value=0.0, max=5.0), HTML(value='')))"
      ]
     },
     "metadata": {},
     "output_type": "display_data"
    },
    {
     "name": "stderr",
     "output_type": "stream",
     "text": [
      "Calculating best minimal value for power law fit\n",
      "Calculating best minimal value for power law fit\n",
      "Calculating best minimal value for power law fit\n",
      "Calculating best minimal value for power law fit\n",
      "Calculating best minimal value for power law fit\n",
      "Calculating best minimal value for power law fit\n",
      "Calculating best minimal value for power law fit\n",
      "Calculating best minimal value for power law fit\n",
      "Calculating best minimal value for power law fit\n"
     ]
    },
    {
     "name": "stdout",
     "output_type": "stream",
     "text": [
      "exponential asia\n",
      "exponential europe\n",
      "exponential oceania\n",
      "exponential north_america\n",
      "exponential south_america\n",
      "lognormal asia\n",
      "lognormal europe\n",
      "lognormal oceania\n",
      "lognormal north_america\n",
      "lognormal south_america\n",
      "stretched_exponential asia\n",
      "stretched_exponential europe\n",
      "stretched_exponential oceania\n",
      "stretched_exponential north_america\n",
      "stretched_exponential south_america\n",
      "truncated_power_law asia\n",
      "truncated_power_law europe\n",
      "truncated_power_law oceania\n",
      "truncated_power_law north_america\n",
      "truncated_power_law south_america\n",
      "\n"
     ]
    }
   ],
   "source": [
    "p_values = pd.DataFrame()\n",
    "x_mins = pd.DataFrame()\n",
    "parameters = pd.DataFrame()\n",
    "\n",
    "regions = ['global','africa', 'asia', 'europe', 'oceania', 'north_america', 'south_america', \n",
    "                   'middle_america_and_the_caribbean', 'middle_east']\n",
    "for dist in tqdm(['powerlaw', 'exponential', 'lognormal', 'stretched_exponential', 'truncated_power_law']):\n",
    "    dist_ps, dist_xmins, dist_params = [], [], []\n",
    "    for region in regions:\n",
    "        try:\n",
    "            bootstrap = np.array(pd.read_csv(boot_source+'rhythm_'+dist+'_'+region+'.csv').D)\n",
    "            distribution = dist_dict[dist]\n",
    "            data = pd.read_csv(data_source+'rhythm_ranks_'+region+'.csv')\n",
    "            fit = distribution(data.ranks)\n",
    "            KS = fit.D\n",
    "            p = len(bootstrap[bootstrap >= KS])/len(bootstrap)\n",
    "            dist_ps.append(p)\n",
    "            dist_xmins.append(fit.xmin)\n",
    "            dist_params.append(fit.get_parameters())\n",
    "        except Exception as e:\n",
    "            # it's normal to get missing file errors as some of these region/distribution\n",
    "            # combinations have not been bootstrapped since the power law is a valid fit\n",
    "            dist_ps.append(np.nan)\n",
    "            dist_xmins.append(np.nan)\n",
    "            dist_params.append(np.nan)\n",
    "            print(dist, region)\n",
    "    p_values[dist] = dist_ps\n",
    "    x_mins[dist] = dist_xmins\n",
    "    parameters[dist]= dist_params\n",
    "p_values.index = regions\n",
    "x_mins.index = regions\n",
    "parameters.index = regions"
   ]
  },
  {
   "cell_type": "markdown",
   "metadata": {},
   "source": [
    "Recall that we only fit a given distribution to alternative models when the power-law is not a valid fit. Therefore, there will be `NaN` values in the place of alternative models when the power law is a valid fit. These values should be the ones corresponding to the distributions listed above (i.e. the ones without a bootstrap file)."
   ]
  },
  {
   "cell_type": "code",
   "execution_count": 171,
   "metadata": {},
   "outputs": [
    {
     "data": {
      "text/html": [
       "<div>\n",
       "<style scoped>\n",
       "    .dataframe tbody tr th:only-of-type {\n",
       "        vertical-align: middle;\n",
       "    }\n",
       "\n",
       "    .dataframe tbody tr th {\n",
       "        vertical-align: top;\n",
       "    }\n",
       "\n",
       "    .dataframe thead th {\n",
       "        text-align: right;\n",
       "    }\n",
       "</style>\n",
       "<table border=\"1\" class=\"dataframe\">\n",
       "  <thead>\n",
       "    <tr style=\"text-align: right;\">\n",
       "      <th></th>\n",
       "      <th>powerlaw</th>\n",
       "      <th>exponential</th>\n",
       "      <th>lognormal</th>\n",
       "      <th>stretched_exponential</th>\n",
       "      <th>truncated_power_law</th>\n",
       "    </tr>\n",
       "  </thead>\n",
       "  <tbody>\n",
       "    <tr>\n",
       "      <th>global</th>\n",
       "      <td>0.000</td>\n",
       "      <td>0.809</td>\n",
       "      <td>0.002</td>\n",
       "      <td>0.857</td>\n",
       "      <td>0.141667</td>\n",
       "    </tr>\n",
       "    <tr>\n",
       "      <th>africa</th>\n",
       "      <td>0.064</td>\n",
       "      <td>0.988</td>\n",
       "      <td>0.018</td>\n",
       "      <td>0.004</td>\n",
       "      <td>0.020000</td>\n",
       "    </tr>\n",
       "    <tr>\n",
       "      <th>asia</th>\n",
       "      <td>0.116</td>\n",
       "      <td>NaN</td>\n",
       "      <td>NaN</td>\n",
       "      <td>NaN</td>\n",
       "      <td>NaN</td>\n",
       "    </tr>\n",
       "    <tr>\n",
       "      <th>europe</th>\n",
       "      <td>0.744</td>\n",
       "      <td>NaN</td>\n",
       "      <td>NaN</td>\n",
       "      <td>NaN</td>\n",
       "      <td>NaN</td>\n",
       "    </tr>\n",
       "    <tr>\n",
       "      <th>oceania</th>\n",
       "      <td>0.203</td>\n",
       "      <td>NaN</td>\n",
       "      <td>NaN</td>\n",
       "      <td>NaN</td>\n",
       "      <td>NaN</td>\n",
       "    </tr>\n",
       "    <tr>\n",
       "      <th>north_america</th>\n",
       "      <td>0.783</td>\n",
       "      <td>NaN</td>\n",
       "      <td>NaN</td>\n",
       "      <td>NaN</td>\n",
       "      <td>NaN</td>\n",
       "    </tr>\n",
       "    <tr>\n",
       "      <th>south_america</th>\n",
       "      <td>0.257</td>\n",
       "      <td>NaN</td>\n",
       "      <td>NaN</td>\n",
       "      <td>NaN</td>\n",
       "      <td>NaN</td>\n",
       "    </tr>\n",
       "    <tr>\n",
       "      <th>middle_america_and_the_caribbean</th>\n",
       "      <td>0.017</td>\n",
       "      <td>0.941</td>\n",
       "      <td>0.972</td>\n",
       "      <td>0.981</td>\n",
       "      <td>0.800000</td>\n",
       "    </tr>\n",
       "    <tr>\n",
       "      <th>middle_east</th>\n",
       "      <td>0.296</td>\n",
       "      <td>0.000</td>\n",
       "      <td>0.000</td>\n",
       "      <td>0.489</td>\n",
       "      <td>0.000000</td>\n",
       "    </tr>\n",
       "  </tbody>\n",
       "</table>\n",
       "</div>"
      ],
      "text/plain": [
       "                                  powerlaw  exponential  lognormal  \\\n",
       "global                               0.000        0.809      0.002   \n",
       "africa                               0.064        0.988      0.018   \n",
       "asia                                 0.116          NaN        NaN   \n",
       "europe                               0.744          NaN        NaN   \n",
       "oceania                              0.203          NaN        NaN   \n",
       "north_america                        0.783          NaN        NaN   \n",
       "south_america                        0.257          NaN        NaN   \n",
       "middle_america_and_the_caribbean     0.017        0.941      0.972   \n",
       "middle_east                          0.296        0.000      0.000   \n",
       "\n",
       "                                  stretched_exponential  truncated_power_law  \n",
       "global                                            0.857             0.141667  \n",
       "africa                                            0.004             0.020000  \n",
       "asia                                                NaN                  NaN  \n",
       "europe                                              NaN                  NaN  \n",
       "oceania                                             NaN                  NaN  \n",
       "north_america                                       NaN                  NaN  \n",
       "south_america                                       NaN                  NaN  \n",
       "middle_america_and_the_caribbean                  0.981             0.800000  \n",
       "middle_east                                       0.489             0.000000  "
      ]
     },
     "execution_count": 171,
     "metadata": {},
     "output_type": "execute_result"
    }
   ],
   "source": [
    "p_values"
   ]
  },
  {
   "cell_type": "code",
   "execution_count": 172,
   "metadata": {},
   "outputs": [
    {
     "data": {
      "text/html": [
       "<div>\n",
       "<style scoped>\n",
       "    .dataframe tbody tr th:only-of-type {\n",
       "        vertical-align: middle;\n",
       "    }\n",
       "\n",
       "    .dataframe tbody tr th {\n",
       "        vertical-align: top;\n",
       "    }\n",
       "\n",
       "    .dataframe thead th {\n",
       "        text-align: right;\n",
       "    }\n",
       "</style>\n",
       "<table border=\"1\" class=\"dataframe\">\n",
       "  <thead>\n",
       "    <tr style=\"text-align: right;\">\n",
       "      <th></th>\n",
       "      <th>powerlaw</th>\n",
       "      <th>exponential</th>\n",
       "      <th>lognormal</th>\n",
       "      <th>stretched_exponential</th>\n",
       "      <th>truncated_power_law</th>\n",
       "    </tr>\n",
       "  </thead>\n",
       "  <tbody>\n",
       "    <tr>\n",
       "      <th>global</th>\n",
       "      <td>7.0</td>\n",
       "      <td>27.0</td>\n",
       "      <td>10.0</td>\n",
       "      <td>31.0</td>\n",
       "      <td>22.0</td>\n",
       "    </tr>\n",
       "    <tr>\n",
       "      <th>africa</th>\n",
       "      <td>15.0</td>\n",
       "      <td>69.0</td>\n",
       "      <td>5.0</td>\n",
       "      <td>5.0</td>\n",
       "      <td>9.0</td>\n",
       "    </tr>\n",
       "    <tr>\n",
       "      <th>asia</th>\n",
       "      <td>6.0</td>\n",
       "      <td>NaN</td>\n",
       "      <td>NaN</td>\n",
       "      <td>NaN</td>\n",
       "      <td>NaN</td>\n",
       "    </tr>\n",
       "    <tr>\n",
       "      <th>europe</th>\n",
       "      <td>10.0</td>\n",
       "      <td>NaN</td>\n",
       "      <td>NaN</td>\n",
       "      <td>NaN</td>\n",
       "      <td>NaN</td>\n",
       "    </tr>\n",
       "    <tr>\n",
       "      <th>oceania</th>\n",
       "      <td>16.0</td>\n",
       "      <td>NaN</td>\n",
       "      <td>NaN</td>\n",
       "      <td>NaN</td>\n",
       "      <td>NaN</td>\n",
       "    </tr>\n",
       "    <tr>\n",
       "      <th>north_america</th>\n",
       "      <td>9.0</td>\n",
       "      <td>NaN</td>\n",
       "      <td>NaN</td>\n",
       "      <td>NaN</td>\n",
       "      <td>NaN</td>\n",
       "    </tr>\n",
       "    <tr>\n",
       "      <th>south_america</th>\n",
       "      <td>8.0</td>\n",
       "      <td>NaN</td>\n",
       "      <td>NaN</td>\n",
       "      <td>NaN</td>\n",
       "      <td>NaN</td>\n",
       "    </tr>\n",
       "    <tr>\n",
       "      <th>middle_america_and_the_caribbean</th>\n",
       "      <td>3.0</td>\n",
       "      <td>16.0</td>\n",
       "      <td>12.0</td>\n",
       "      <td>10.0</td>\n",
       "      <td>17.0</td>\n",
       "    </tr>\n",
       "    <tr>\n",
       "      <th>middle_east</th>\n",
       "      <td>12.0</td>\n",
       "      <td>1.0</td>\n",
       "      <td>1.0</td>\n",
       "      <td>6.0</td>\n",
       "      <td>1.0</td>\n",
       "    </tr>\n",
       "  </tbody>\n",
       "</table>\n",
       "</div>"
      ],
      "text/plain": [
       "                                  powerlaw  exponential  lognormal  \\\n",
       "global                                 7.0         27.0       10.0   \n",
       "africa                                15.0         69.0        5.0   \n",
       "asia                                   6.0          NaN        NaN   \n",
       "europe                                10.0          NaN        NaN   \n",
       "oceania                               16.0          NaN        NaN   \n",
       "north_america                          9.0          NaN        NaN   \n",
       "south_america                          8.0          NaN        NaN   \n",
       "middle_america_and_the_caribbean       3.0         16.0       12.0   \n",
       "middle_east                           12.0          1.0        1.0   \n",
       "\n",
       "                                  stretched_exponential  truncated_power_law  \n",
       "global                                             31.0                 22.0  \n",
       "africa                                              5.0                  9.0  \n",
       "asia                                                NaN                  NaN  \n",
       "europe                                              NaN                  NaN  \n",
       "oceania                                             NaN                  NaN  \n",
       "north_america                                       NaN                  NaN  \n",
       "south_america                                       NaN                  NaN  \n",
       "middle_america_and_the_caribbean                   10.0                 17.0  \n",
       "middle_east                                         6.0                  1.0  "
      ]
     },
     "execution_count": 172,
     "metadata": {},
     "output_type": "execute_result"
    }
   ],
   "source": [
    "x_mins"
   ]
  },
  {
   "cell_type": "code",
   "execution_count": 173,
   "metadata": {},
   "outputs": [
    {
     "data": {
      "text/html": [
       "<div>\n",
       "<style scoped>\n",
       "    .dataframe tbody tr th:only-of-type {\n",
       "        vertical-align: middle;\n",
       "    }\n",
       "\n",
       "    .dataframe tbody tr th {\n",
       "        vertical-align: top;\n",
       "    }\n",
       "\n",
       "    .dataframe thead th {\n",
       "        text-align: right;\n",
       "    }\n",
       "</style>\n",
       "<table border=\"1\" class=\"dataframe\">\n",
       "  <thead>\n",
       "    <tr style=\"text-align: right;\">\n",
       "      <th></th>\n",
       "      <th>powerlaw</th>\n",
       "      <th>exponential</th>\n",
       "      <th>lognormal</th>\n",
       "      <th>stretched_exponential</th>\n",
       "      <th>truncated_power_law</th>\n",
       "    </tr>\n",
       "  </thead>\n",
       "  <tbody>\n",
       "    <tr>\n",
       "      <th>global</th>\n",
       "      <td>[2.5966830010114212]</td>\n",
       "      <td>[0.05501348858737702]</td>\n",
       "      <td>[1.5865235416760273, 1.0479954337062993]</td>\n",
       "      <td>[0.03249199356916668, 1.4041128758404728]</td>\n",
       "      <td>[1.0000467812358518, 0.038568299121796615]</td>\n",
       "    </tr>\n",
       "    <tr>\n",
       "      <th>africa</th>\n",
       "      <td>[3.093742637135077]</td>\n",
       "      <td>[0.5108156028368804]</td>\n",
       "      <td>[1.1852698905540526, 1.0855722485182242]</td>\n",
       "      <td>[0.9437476441537507, 0.47661682019825713]</td>\n",
       "      <td>[1.4453904734265293, 0.044224853191061564]</td>\n",
       "    </tr>\n",
       "    <tr>\n",
       "      <th>asia</th>\n",
       "      <td>[2.6940089742260422]</td>\n",
       "      <td>NaN</td>\n",
       "      <td>NaN</td>\n",
       "      <td>NaN</td>\n",
       "      <td>NaN</td>\n",
       "    </tr>\n",
       "    <tr>\n",
       "      <th>europe</th>\n",
       "      <td>[3.9731023774352137]</td>\n",
       "      <td>NaN</td>\n",
       "      <td>NaN</td>\n",
       "      <td>NaN</td>\n",
       "      <td>NaN</td>\n",
       "    </tr>\n",
       "    <tr>\n",
       "      <th>oceania</th>\n",
       "      <td>[3.286627373274041]</td>\n",
       "      <td>NaN</td>\n",
       "      <td>NaN</td>\n",
       "      <td>NaN</td>\n",
       "      <td>NaN</td>\n",
       "    </tr>\n",
       "    <tr>\n",
       "      <th>north_america</th>\n",
       "      <td>[4.288603905685319]</td>\n",
       "      <td>NaN</td>\n",
       "      <td>NaN</td>\n",
       "      <td>NaN</td>\n",
       "      <td>NaN</td>\n",
       "    </tr>\n",
       "    <tr>\n",
       "      <th>south_america</th>\n",
       "      <td>[3.0100464987601554]</td>\n",
       "      <td>NaN</td>\n",
       "      <td>NaN</td>\n",
       "      <td>NaN</td>\n",
       "      <td>NaN</td>\n",
       "    </tr>\n",
       "    <tr>\n",
       "      <th>middle_america_and_the_caribbean</th>\n",
       "      <td>[2.2951056789202893]</td>\n",
       "      <td>[0.1555254424778766]</td>\n",
       "      <td>[2.721710217109792, 0.40722019423283384]</td>\n",
       "      <td>[0.07298913647937622, 1.6016608432618316]</td>\n",
       "      <td>[1.0000253829627024, 0.12235578841157982]</td>\n",
       "    </tr>\n",
       "    <tr>\n",
       "      <th>middle_east</th>\n",
       "      <td>[11.709524201380239]</td>\n",
       "      <td>[0.68945064691152]</td>\n",
       "      <td>[0.054797076222348334, 0.9168265476565333]</td>\n",
       "      <td>[0.12634998129607466, 2.587448698899732]</td>\n",
       "      <td>[1.0000372068763537, 0.33262916150826893]</td>\n",
       "    </tr>\n",
       "  </tbody>\n",
       "</table>\n",
       "</div>"
      ],
      "text/plain": [
       "                                              powerlaw            exponential  \\\n",
       "global                            [2.5966830010114212]  [0.05501348858737702]   \n",
       "africa                             [3.093742637135077]   [0.5108156028368804]   \n",
       "asia                              [2.6940089742260422]                    NaN   \n",
       "europe                            [3.9731023774352137]                    NaN   \n",
       "oceania                            [3.286627373274041]                    NaN   \n",
       "north_america                      [4.288603905685319]                    NaN   \n",
       "south_america                     [3.0100464987601554]                    NaN   \n",
       "middle_america_and_the_caribbean  [2.2951056789202893]   [0.1555254424778766]   \n",
       "middle_east                       [11.709524201380239]     [0.68945064691152]   \n",
       "\n",
       "                                                                   lognormal  \\\n",
       "global                              [1.5865235416760273, 1.0479954337062993]   \n",
       "africa                              [1.1852698905540526, 1.0855722485182242]   \n",
       "asia                                                                     NaN   \n",
       "europe                                                                   NaN   \n",
       "oceania                                                                  NaN   \n",
       "north_america                                                            NaN   \n",
       "south_america                                                            NaN   \n",
       "middle_america_and_the_caribbean    [2.721710217109792, 0.40722019423283384]   \n",
       "middle_east                       [0.054797076222348334, 0.9168265476565333]   \n",
       "\n",
       "                                                      stretched_exponential  \\\n",
       "global                            [0.03249199356916668, 1.4041128758404728]   \n",
       "africa                            [0.9437476441537507, 0.47661682019825713]   \n",
       "asia                                                                    NaN   \n",
       "europe                                                                  NaN   \n",
       "oceania                                                                 NaN   \n",
       "north_america                                                           NaN   \n",
       "south_america                                                           NaN   \n",
       "middle_america_and_the_caribbean  [0.07298913647937622, 1.6016608432618316]   \n",
       "middle_east                        [0.12634998129607466, 2.587448698899732]   \n",
       "\n",
       "                                                         truncated_power_law  \n",
       "global                            [1.0000467812358518, 0.038568299121796615]  \n",
       "africa                            [1.4453904734265293, 0.044224853191061564]  \n",
       "asia                                                                     NaN  \n",
       "europe                                                                   NaN  \n",
       "oceania                                                                  NaN  \n",
       "north_america                                                            NaN  \n",
       "south_america                                                            NaN  \n",
       "middle_america_and_the_caribbean   [1.0000253829627024, 0.12235578841157982]  \n",
       "middle_east                        [1.0000372068763537, 0.33262916150826893]  "
      ]
     },
     "execution_count": 173,
     "metadata": {},
     "output_type": "execute_result"
    }
   ],
   "source": [
    "parameters"
   ]
  },
  {
   "cell_type": "markdown",
   "metadata": {},
   "source": [
    "-----\n",
    "#### A note on the `rhythm_ranks_middle_east.csv` powerlaw fit\n",
    "Our estimate for $x_{min}$ in the case of the power law fit to the middle east accounts for only $0.06\\%$ of data. This is clearly not a fit we would consider valid. Therefore, we select as estimate for $x_{min}$ the next lowest valud of $D$, which, here, is $9$."
   ]
  },
  {
   "cell_type": "code",
   "execution_count": 85,
   "metadata": {},
   "outputs": [
    {
     "data": {
      "text/plain": [
       "0.6032171581769437"
      ]
     },
     "execution_count": 85,
     "metadata": {},
     "output_type": "execute_result"
    }
   ],
   "source": [
    "data = np.array(pd.read_csv(data_source+'rhythm_ranks_middle_east.csv').ranks)\n",
    "len(data[data >= 12])/len(data)*100"
   ]
  },
  {
   "cell_type": "code",
   "execution_count": 87,
   "metadata": {},
   "outputs": [
    {
     "name": "stderr",
     "output_type": "stream",
     "text": [
      "Calculating best minimal value for power law fit\n"
     ]
    },
    {
     "data": {
      "text/plain": [
       "array([0.13929755, 0.11191629, 0.15191631, 0.12958684, 0.13545071,\n",
       "       0.12964725, 0.12495066, 0.12327752, 0.08995381, 0.1199193 ,\n",
       "       0.10335906, 0.07854785, 0.16315363, 1.        ])"
      ]
     },
     "execution_count": 87,
     "metadata": {},
     "output_type": "execute_result"
    }
   ],
   "source": [
    "Powerlaw(data).Ds"
   ]
  },
  {
   "cell_type": "code",
   "execution_count": 90,
   "metadata": {},
   "outputs": [
    {
     "name": "stdout",
     "output_type": "stream",
     "text": [
      "p = 0.0780\n"
     ]
    },
    {
     "name": "stderr",
     "output_type": "stream",
     "text": [
      "Calculating best minimal value for power law fit\n"
     ]
    }
   ],
   "source": [
    "bootstrap = np.array(pd.read_csv(boot_source+'rhythm_powerlaw_middle_east_xmin9.csv').D)\n",
    "data = pd.read_csv(data_source+'rhythm_ranks_'+region+'.csv')\n",
    "fit = Powerlaw(data.ranks, xmin=9)\n",
    "KS = fit.D\n",
    "p = len(bootstrap[bootstrap >= KS])/len(bootstrap)\n",
    "print('p = %.4f' % p)"
   ]
  },
  {
   "cell_type": "markdown",
   "metadata": {},
   "source": [
    "Also, at $x_{min} = 2$."
   ]
  },
  {
   "cell_type": "code",
   "execution_count": 91,
   "metadata": {},
   "outputs": [
    {
     "name": "stdout",
     "output_type": "stream",
     "text": [
      "p = 0.0000\n"
     ]
    },
    {
     "name": "stderr",
     "output_type": "stream",
     "text": [
      "Calculating best minimal value for power law fit\n"
     ]
    }
   ],
   "source": [
    "bootstrap = np.array(pd.read_csv(boot_source+'rhythm_powerlaw_middle_east_xmin2.csv').D)\n",
    "data = pd.read_csv(data_source+'rhythm_ranks_'+region+'.csv')\n",
    "fit = Powerlaw(data.ranks, xmin=2)\n",
    "KS = fit.D\n",
    "p = len(bootstrap[bootstrap >= KS])/len(bootstrap)\n",
    "print('p = %.4f' % p)"
   ]
  },
  {
   "cell_type": "markdown",
   "metadata": {},
   "source": [
    "We reject the fit in both cases."
   ]
  },
  {
   "cell_type": "code",
   "execution_count": 96,
   "metadata": {},
   "outputs": [
    {
     "name": "stderr",
     "output_type": "stream",
     "text": [
      "Calculating best minimal value for power law fit\n",
      "/Users/benlebrun/opt/anaconda3/lib/python3.7/site-packages/powerlaw.py:700: RuntimeWarning: divide by zero encountered in true_divide\n",
      "  (Theoretical_CDF * (1 - Theoretical_CDF))\n"
     ]
    }
   ],
   "source": [
    "# update the dataframes\n",
    "p_values.at['middle_east', 'powerlaw'] =  0.078\n",
    "x_mins.at['middle_east', 'powerlaw'] =  9\n",
    "parameters.at['middle_east', 'powerlaw'] = Powerlaw(data.ranks, xmin=9).get_parameters()"
   ]
  },
  {
   "cell_type": "markdown",
   "metadata": {},
   "source": [
    "We have the same issue for `africa` when fitting to the exponential distribution.  "
   ]
  },
  {
   "cell_type": "code",
   "execution_count": 132,
   "metadata": {},
   "outputs": [
    {
     "data": {
      "text/plain": [
       "0.04485310607759588"
      ]
     },
     "execution_count": 132,
     "metadata": {},
     "output_type": "execute_result"
    }
   ],
   "source": [
    "data = np.array(pd.read_csv(data_source+'rhythm_ranks_africa.csv').ranks)\n",
    "len(data[data >= 69])/len(data)*100"
   ]
  },
  {
   "cell_type": "code",
   "execution_count": 134,
   "metadata": {},
   "outputs": [
    {
     "data": {
      "text/plain": [
       "[[<powerlaw.Fit at 0x1a23456450>, 69.0, 1.2378986724570495e-13],\n",
       " [<powerlaw.Fit at 0x1a23456310>, 21.0, 0.03739133018557861],\n",
       " [<powerlaw.Fit at 0x1a23456690>, 20.0, 0.037745159356799396],\n",
       " [<powerlaw.Fit at 0x1a23456b50>, 22.0, 0.03885945625828868],\n",
       " [<powerlaw.Fit at 0x1a23456dd0>, 23.0, 0.04068390942433453]]"
      ]
     },
     "execution_count": 134,
     "metadata": {},
     "output_type": "execute_result"
    }
   ],
   "source": [
    "Exponential(data).Ds[0:5]"
   ]
  },
  {
   "cell_type": "code",
   "execution_count": 136,
   "metadata": {},
   "outputs": [
    {
     "name": "stdout",
     "output_type": "stream",
     "text": [
      "p = 0.239\n"
     ]
    }
   ],
   "source": [
    "bootstrap = np.array(pd.read_csv(boot_source+'rhythm_exponential_africa_xmin21.csv').D)\n",
    "data = pd.read_csv(data_source+'rhythm_ranks_'+'africa'+'.csv')\n",
    "fit = Exponential(data.ranks, xmin=21)\n",
    "KS = fit.D\n",
    "p = len(bootstrap[bootstrap >= KS])/len(bootstrap)\n",
    "print('p = %.3f' % p)"
   ]
  },
  {
   "cell_type": "code",
   "execution_count": 137,
   "metadata": {},
   "outputs": [],
   "source": [
    "# update the dataframes\n",
    "p_values.at['africa', 'exponential'] = 0.239\n",
    "x_mins.at['africa', 'exponential'] =  21\n",
    "parameters.at['africa', 'exponential'] = Exponential(data.ranks, xmin=21).get_parameters()"
   ]
  },
  {
   "cell_type": "code",
   "execution_count": 138,
   "metadata": {},
   "outputs": [
    {
     "data": {
      "text/plain": [
       "[0.07317673102939362]"
      ]
     },
     "execution_count": 138,
     "metadata": {},
     "output_type": "execute_result"
    }
   ],
   "source": [
    "Exponential(data.ranks, xmin=21).get_parameters()"
   ]
  },
  {
   "cell_type": "markdown",
   "metadata": {},
   "source": [
    "---\n",
    "## 2. Alternative distribution comparison\n",
    "\n",
    "Recall that **each valid fit** must be compared to other fits using the likelihood ratio test. So, for each fit with a $p$-value greater than $0.1$, we compare it to all alternative fits above $\\hat{x}_{min}$ using the likelihood ratio test. If the test is significant ($p < 0.05$) and the value of $LR$ is negative, we can reject the fit in question."
   ]
  },
  {
   "cell_type": "code",
   "execution_count": 70,
   "metadata": {},
   "outputs": [],
   "source": [
    "def likelihood_ratio_tests(fit, fit_dist):\n",
    "    distributions = ['power_law', 'lognormal', 'truncated_power_law', 'stretched_exponential', 'exponential']\n",
    "    results = []\n",
    "    for dist in distributions:\n",
    "        if dist == fit_dist:\n",
    "            results.append((-1,-1))\n",
    "            continue\n",
    "        with io.capture_output() as captured:\n",
    "            try:\n",
    "                res = fit.distribution_compare(fit_dist, dist)\n",
    "            except ZeroDivisionError:\n",
    "                res = (-1,-1)\n",
    "        results.append(res)\n",
    "            \n",
    "    return results"
   ]
  },
  {
   "cell_type": "code",
   "execution_count": 71,
   "metadata": {},
   "outputs": [
    {
     "data": {
      "application/vnd.jupyter.widget-view+json": {
       "model_id": "ea927caf586c4188b1826ac1ded0b939",
       "version_major": 2,
       "version_minor": 0
      },
      "text/plain": [
       "HBox(children=(FloatProgress(value=0.0, max=9.0), HTML(value='')))"
      ]
     },
     "metadata": {},
     "output_type": "display_data"
    },
    {
     "name": "stderr",
     "output_type": "stream",
     "text": [
      "/Users/benlebrun/opt/anaconda3/lib/python3.7/site-packages/powerlaw.py:700: RuntimeWarning: invalid value encountered in true_divide\n",
      "  (Theoretical_CDF * (1 - Theoretical_CDF))\n",
      "/Users/benlebrun/opt/anaconda3/lib/python3.7/site-packages/powerlaw.py:700: RuntimeWarning: divide by zero encountered in true_divide\n",
      "  (Theoretical_CDF * (1 - Theoretical_CDF))\n"
     ]
    },
    {
     "name": "stdout",
     "output_type": "stream",
     "text": [
      "\n"
     ]
    }
   ],
   "source": [
    "dataframes = {}\n",
    "for region in tqdm(p_values.index):\n",
    "    data = pd.read_csv(data_source+'rhythm_ranks_'+region+'.csv')\n",
    "    df = pd.DataFrame()\n",
    "    for dist in p_values.columns:\n",
    "        p_value = p_values.loc[region, dist]\n",
    "        if p_value > 0.1:\n",
    "            x_min = x_mins.loc[region, dist]\n",
    "            if dist == 'powerlaw': \n",
    "                dist = 'power_law' # naming convention\n",
    "            results = likelihood_ratio_tests(pl.Fit(data.ranks, xmin=x_min, discrete=True), dist)\n",
    "            df[dist] = results\n",
    "        else:\n",
    "            df[dist] = [np.nan for i in range(0,5)]\n",
    "    df.index = ['power_law', 'lognormal', 'truncated_power_law', 'stretched_exponential', 'exponential']\n",
    "    df = df.dropna(axis=1, how='all')\n",
    "    dataframes[region] = df"
   ]
  },
  {
   "cell_type": "markdown",
   "metadata": {},
   "source": [
    "We now list the dataframes containing the likelihood ratio results for each region. The only comparisons used are those to the power law."
   ]
  },
  {
   "cell_type": "code",
   "execution_count": 73,
   "metadata": {},
   "outputs": [
    {
     "data": {
      "text/html": [
       "<div>\n",
       "<style scoped>\n",
       "    .dataframe tbody tr th:only-of-type {\n",
       "        vertical-align: middle;\n",
       "    }\n",
       "\n",
       "    .dataframe tbody tr th {\n",
       "        vertical-align: top;\n",
       "    }\n",
       "\n",
       "    .dataframe thead th {\n",
       "        text-align: right;\n",
       "    }\n",
       "</style>\n",
       "<table border=\"1\" class=\"dataframe\">\n",
       "  <thead>\n",
       "    <tr style=\"text-align: right;\">\n",
       "      <th></th>\n",
       "      <th>exponential</th>\n",
       "      <th>stretched_exponential</th>\n",
       "      <th>truncated_power_law</th>\n",
       "    </tr>\n",
       "  </thead>\n",
       "  <tbody>\n",
       "    <tr>\n",
       "      <th>power_law</th>\n",
       "      <td>(24.627675185666956, 2.183496960652464e-07)</td>\n",
       "      <td>(23.908462077208164, 7.483881437243601e-06)</td>\n",
       "      <td>(24.78908292798087, 1.9062529332813938e-12)</td>\n",
       "    </tr>\n",
       "    <tr>\n",
       "      <th>lognormal</th>\n",
       "      <td>(2.470673260407804, 0.0013928111761822104)</td>\n",
       "      <td>(2.4229421848294894, 0.0007571349129786556)</td>\n",
       "      <td>(3.7655411024450145, 1.3188544184969003e-06)</td>\n",
       "    </tr>\n",
       "    <tr>\n",
       "      <th>truncated_power_law</th>\n",
       "      <td>(2.444643829786844, 0.08012499792836397)</td>\n",
       "      <td>(5.081695413455158, 0.05950007687469179)</td>\n",
       "      <td>(-1, -1)</td>\n",
       "    </tr>\n",
       "    <tr>\n",
       "      <th>stretched_exponential</th>\n",
       "      <td>(-0.5025634964709456, 0.31607309776603865)</td>\n",
       "      <td>(-1, -1)</td>\n",
       "      <td>(0.4494676952404655, 0.6245737190617056)</td>\n",
       "    </tr>\n",
       "    <tr>\n",
       "      <th>exponential</th>\n",
       "      <td>(-1, -1)</td>\n",
       "      <td>(2.0906066268877206, 0.04087442991798307)</td>\n",
       "      <td>(1.3329784107618092, 0.51402815598214)</td>\n",
       "    </tr>\n",
       "  </tbody>\n",
       "</table>\n",
       "</div>"
      ],
      "text/plain": [
       "                                                       exponential  \\\n",
       "power_law              (24.627675185666956, 2.183496960652464e-07)   \n",
       "lognormal               (2.470673260407804, 0.0013928111761822104)   \n",
       "truncated_power_law       (2.444643829786844, 0.08012499792836397)   \n",
       "stretched_exponential   (-0.5025634964709456, 0.31607309776603865)   \n",
       "exponential                                               (-1, -1)   \n",
       "\n",
       "                                             stretched_exponential  \\\n",
       "power_law              (23.908462077208164, 7.483881437243601e-06)   \n",
       "lognormal              (2.4229421848294894, 0.0007571349129786556)   \n",
       "truncated_power_law       (5.081695413455158, 0.05950007687469179)   \n",
       "stretched_exponential                                     (-1, -1)   \n",
       "exponential              (2.0906066268877206, 0.04087442991798307)   \n",
       "\n",
       "                                                truncated_power_law  \n",
       "power_law               (24.78908292798087, 1.9062529332813938e-12)  \n",
       "lognormal              (3.7655411024450145, 1.3188544184969003e-06)  \n",
       "truncated_power_law                                        (-1, -1)  \n",
       "stretched_exponential      (0.4494676952404655, 0.6245737190617056)  \n",
       "exponential                  (1.3329784107618092, 0.51402815598214)  "
      ]
     },
     "execution_count": 73,
     "metadata": {},
     "output_type": "execute_result"
    }
   ],
   "source": [
    "dataframes['global']"
   ]
  },
  {
   "cell_type": "code",
   "execution_count": 74,
   "metadata": {},
   "outputs": [
    {
     "data": {
      "text/html": [
       "<div>\n",
       "<style scoped>\n",
       "    .dataframe tbody tr th:only-of-type {\n",
       "        vertical-align: middle;\n",
       "    }\n",
       "\n",
       "    .dataframe tbody tr th {\n",
       "        vertical-align: top;\n",
       "    }\n",
       "\n",
       "    .dataframe thead th {\n",
       "        text-align: right;\n",
       "    }\n",
       "</style>\n",
       "<table border=\"1\" class=\"dataframe\">\n",
       "  <thead>\n",
       "    <tr style=\"text-align: right;\">\n",
       "      <th></th>\n",
       "      <th>exponential</th>\n",
       "    </tr>\n",
       "  </thead>\n",
       "  <tbody>\n",
       "    <tr>\n",
       "      <th>power_law</th>\n",
       "      <td>(-inf, nan)</td>\n",
       "    </tr>\n",
       "    <tr>\n",
       "      <th>lognormal</th>\n",
       "      <td>(-0.7926874299386261, 0.4408617009782997)</td>\n",
       "    </tr>\n",
       "    <tr>\n",
       "      <th>truncated_power_law</th>\n",
       "      <td>(-1, -1)</td>\n",
       "    </tr>\n",
       "    <tr>\n",
       "      <th>stretched_exponential</th>\n",
       "      <td>(-0.9379137845896598, 0.17080913046639068)</td>\n",
       "    </tr>\n",
       "    <tr>\n",
       "      <th>exponential</th>\n",
       "      <td>(-1, -1)</td>\n",
       "    </tr>\n",
       "  </tbody>\n",
       "</table>\n",
       "</div>"
      ],
      "text/plain": [
       "                                                      exponential\n",
       "power_law                                             (-inf, nan)\n",
       "lognormal               (-0.7926874299386261, 0.4408617009782997)\n",
       "truncated_power_law                                      (-1, -1)\n",
       "stretched_exponential  (-0.9379137845896598, 0.17080913046639068)\n",
       "exponential                                              (-1, -1)"
      ]
     },
     "execution_count": 74,
     "metadata": {},
     "output_type": "execute_result"
    }
   ],
   "source": [
    "dataframes['africa']"
   ]
  },
  {
   "cell_type": "code",
   "execution_count": 75,
   "metadata": {},
   "outputs": [
    {
     "data": {
      "text/html": [
       "<div>\n",
       "<style scoped>\n",
       "    .dataframe tbody tr th:only-of-type {\n",
       "        vertical-align: middle;\n",
       "    }\n",
       "\n",
       "    .dataframe tbody tr th {\n",
       "        vertical-align: top;\n",
       "    }\n",
       "\n",
       "    .dataframe thead th {\n",
       "        text-align: right;\n",
       "    }\n",
       "</style>\n",
       "<table border=\"1\" class=\"dataframe\">\n",
       "  <thead>\n",
       "    <tr style=\"text-align: right;\">\n",
       "      <th></th>\n",
       "      <th>power_law</th>\n",
       "    </tr>\n",
       "  </thead>\n",
       "  <tbody>\n",
       "    <tr>\n",
       "      <th>power_law</th>\n",
       "      <td>(-1, -1)</td>\n",
       "    </tr>\n",
       "    <tr>\n",
       "      <th>lognormal</th>\n",
       "      <td>(-6.317155817872379, 0.014903246140920014)</td>\n",
       "    </tr>\n",
       "    <tr>\n",
       "      <th>truncated_power_law</th>\n",
       "      <td>(-7.5543243828616395, 0.00010149721823637936)</td>\n",
       "    </tr>\n",
       "    <tr>\n",
       "      <th>stretched_exponential</th>\n",
       "      <td>(-6.80533581562551, 0.01039223295076591)</td>\n",
       "    </tr>\n",
       "    <tr>\n",
       "      <th>exponential</th>\n",
       "      <td>(15.42830465761434, 0.08203712663451564)</td>\n",
       "    </tr>\n",
       "  </tbody>\n",
       "</table>\n",
       "</div>"
      ],
      "text/plain": [
       "                                                           power_law\n",
       "power_law                                                   (-1, -1)\n",
       "lognormal                 (-6.317155817872379, 0.014903246140920014)\n",
       "truncated_power_law    (-7.5543243828616395, 0.00010149721823637936)\n",
       "stretched_exponential       (-6.80533581562551, 0.01039223295076591)\n",
       "exponential                 (15.42830465761434, 0.08203712663451564)"
      ]
     },
     "execution_count": 75,
     "metadata": {},
     "output_type": "execute_result"
    }
   ],
   "source": [
    "dataframes['asia']"
   ]
  },
  {
   "cell_type": "code",
   "execution_count": 76,
   "metadata": {},
   "outputs": [
    {
     "data": {
      "text/html": [
       "<div>\n",
       "<style scoped>\n",
       "    .dataframe tbody tr th:only-of-type {\n",
       "        vertical-align: middle;\n",
       "    }\n",
       "\n",
       "    .dataframe tbody tr th {\n",
       "        vertical-align: top;\n",
       "    }\n",
       "\n",
       "    .dataframe thead th {\n",
       "        text-align: right;\n",
       "    }\n",
       "</style>\n",
       "<table border=\"1\" class=\"dataframe\">\n",
       "  <thead>\n",
       "    <tr style=\"text-align: right;\">\n",
       "      <th></th>\n",
       "      <th>power_law</th>\n",
       "    </tr>\n",
       "  </thead>\n",
       "  <tbody>\n",
       "    <tr>\n",
       "      <th>power_law</th>\n",
       "      <td>(-1, -1)</td>\n",
       "    </tr>\n",
       "    <tr>\n",
       "      <th>lognormal</th>\n",
       "      <td>(-1.0912101051429364, 0.2814943229493748)</td>\n",
       "    </tr>\n",
       "    <tr>\n",
       "      <th>truncated_power_law</th>\n",
       "      <td>(-1.3548877766293086, 0.09973502295072556)</td>\n",
       "    </tr>\n",
       "    <tr>\n",
       "      <th>stretched_exponential</th>\n",
       "      <td>(-1.2761433221001885, 0.26051609042760027)</td>\n",
       "    </tr>\n",
       "    <tr>\n",
       "      <th>exponential</th>\n",
       "      <td>(-1.0829194065022816, 0.5020662429070204)</td>\n",
       "    </tr>\n",
       "  </tbody>\n",
       "</table>\n",
       "</div>"
      ],
      "text/plain": [
       "                                                        power_law\n",
       "power_law                                                (-1, -1)\n",
       "lognormal               (-1.0912101051429364, 0.2814943229493748)\n",
       "truncated_power_law    (-1.3548877766293086, 0.09973502295072556)\n",
       "stretched_exponential  (-1.2761433221001885, 0.26051609042760027)\n",
       "exponential             (-1.0829194065022816, 0.5020662429070204)"
      ]
     },
     "execution_count": 76,
     "metadata": {},
     "output_type": "execute_result"
    }
   ],
   "source": [
    "dataframes['europe']"
   ]
  },
  {
   "cell_type": "code",
   "execution_count": 77,
   "metadata": {},
   "outputs": [
    {
     "data": {
      "text/html": [
       "<div>\n",
       "<style scoped>\n",
       "    .dataframe tbody tr th:only-of-type {\n",
       "        vertical-align: middle;\n",
       "    }\n",
       "\n",
       "    .dataframe tbody tr th {\n",
       "        vertical-align: top;\n",
       "    }\n",
       "\n",
       "    .dataframe thead th {\n",
       "        text-align: right;\n",
       "    }\n",
       "</style>\n",
       "<table border=\"1\" class=\"dataframe\">\n",
       "  <thead>\n",
       "    <tr style=\"text-align: right;\">\n",
       "      <th></th>\n",
       "      <th>power_law</th>\n",
       "    </tr>\n",
       "  </thead>\n",
       "  <tbody>\n",
       "    <tr>\n",
       "      <th>power_law</th>\n",
       "      <td>(-1, -1)</td>\n",
       "    </tr>\n",
       "    <tr>\n",
       "      <th>lognormal</th>\n",
       "      <td>(-3.0923471469132275, 0.08144127147663373)</td>\n",
       "    </tr>\n",
       "    <tr>\n",
       "      <th>truncated_power_law</th>\n",
       "      <td>(-3.7028814052927617, 0.006501527003374696)</td>\n",
       "    </tr>\n",
       "    <tr>\n",
       "      <th>stretched_exponential</th>\n",
       "      <td>(-3.596904281170017, 0.06652288861628883)</td>\n",
       "    </tr>\n",
       "    <tr>\n",
       "      <th>exponential</th>\n",
       "      <td>(-3.4546617106084216, 0.14340611703671546)</td>\n",
       "    </tr>\n",
       "  </tbody>\n",
       "</table>\n",
       "</div>"
      ],
      "text/plain": [
       "                                                         power_law\n",
       "power_law                                                 (-1, -1)\n",
       "lognormal               (-3.0923471469132275, 0.08144127147663373)\n",
       "truncated_power_law    (-3.7028814052927617, 0.006501527003374696)\n",
       "stretched_exponential    (-3.596904281170017, 0.06652288861628883)\n",
       "exponential             (-3.4546617106084216, 0.14340611703671546)"
      ]
     },
     "execution_count": 77,
     "metadata": {},
     "output_type": "execute_result"
    }
   ],
   "source": [
    "dataframes['oceania']"
   ]
  },
  {
   "cell_type": "code",
   "execution_count": 78,
   "metadata": {},
   "outputs": [
    {
     "data": {
      "text/html": [
       "<div>\n",
       "<style scoped>\n",
       "    .dataframe tbody tr th:only-of-type {\n",
       "        vertical-align: middle;\n",
       "    }\n",
       "\n",
       "    .dataframe tbody tr th {\n",
       "        vertical-align: top;\n",
       "    }\n",
       "\n",
       "    .dataframe thead th {\n",
       "        text-align: right;\n",
       "    }\n",
       "</style>\n",
       "<table border=\"1\" class=\"dataframe\">\n",
       "  <thead>\n",
       "    <tr style=\"text-align: right;\">\n",
       "      <th></th>\n",
       "      <th>power_law</th>\n",
       "    </tr>\n",
       "  </thead>\n",
       "  <tbody>\n",
       "    <tr>\n",
       "      <th>power_law</th>\n",
       "      <td>(-1, -1)</td>\n",
       "    </tr>\n",
       "    <tr>\n",
       "      <th>lognormal</th>\n",
       "      <td>(-1.4457161807114445, 0.20808652609136258)</td>\n",
       "    </tr>\n",
       "    <tr>\n",
       "      <th>truncated_power_law</th>\n",
       "      <td>(-1.824640061492699, 0.05609345153392431)</td>\n",
       "    </tr>\n",
       "    <tr>\n",
       "      <th>stretched_exponential</th>\n",
       "      <td>(-1.6477292543453608, 0.1915856539344123)</td>\n",
       "    </tr>\n",
       "    <tr>\n",
       "      <th>exponential</th>\n",
       "      <td>(-0.4481780065700529, 0.8593143959769981)</td>\n",
       "    </tr>\n",
       "  </tbody>\n",
       "</table>\n",
       "</div>"
      ],
      "text/plain": [
       "                                                        power_law\n",
       "power_law                                                (-1, -1)\n",
       "lognormal              (-1.4457161807114445, 0.20808652609136258)\n",
       "truncated_power_law     (-1.824640061492699, 0.05609345153392431)\n",
       "stretched_exponential   (-1.6477292543453608, 0.1915856539344123)\n",
       "exponential             (-0.4481780065700529, 0.8593143959769981)"
      ]
     },
     "execution_count": 78,
     "metadata": {},
     "output_type": "execute_result"
    }
   ],
   "source": [
    "dataframes['north_america']"
   ]
  },
  {
   "cell_type": "code",
   "execution_count": 79,
   "metadata": {},
   "outputs": [
    {
     "data": {
      "text/html": [
       "<div>\n",
       "<style scoped>\n",
       "    .dataframe tbody tr th:only-of-type {\n",
       "        vertical-align: middle;\n",
       "    }\n",
       "\n",
       "    .dataframe tbody tr th {\n",
       "        vertical-align: top;\n",
       "    }\n",
       "\n",
       "    .dataframe thead th {\n",
       "        text-align: right;\n",
       "    }\n",
       "</style>\n",
       "<table border=\"1\" class=\"dataframe\">\n",
       "  <thead>\n",
       "    <tr style=\"text-align: right;\">\n",
       "      <th></th>\n",
       "      <th>power_law</th>\n",
       "    </tr>\n",
       "  </thead>\n",
       "  <tbody>\n",
       "    <tr>\n",
       "      <th>power_law</th>\n",
       "      <td>(-1, -1)</td>\n",
       "    </tr>\n",
       "    <tr>\n",
       "      <th>lognormal</th>\n",
       "      <td>(-4.257662156588082, 0.03925260646300424)</td>\n",
       "    </tr>\n",
       "    <tr>\n",
       "      <th>truncated_power_law</th>\n",
       "      <td>(-5.62500250094611, 0.0007962280119299114)</td>\n",
       "    </tr>\n",
       "    <tr>\n",
       "      <th>stretched_exponential</th>\n",
       "      <td>(-4.8036988903523765, 0.030734338553940088)</td>\n",
       "    </tr>\n",
       "    <tr>\n",
       "      <th>exponential</th>\n",
       "      <td>(7.127483649017502, 0.2644049286437692)</td>\n",
       "    </tr>\n",
       "  </tbody>\n",
       "</table>\n",
       "</div>"
      ],
      "text/plain": [
       "                                                         power_law\n",
       "power_law                                                 (-1, -1)\n",
       "lognormal                (-4.257662156588082, 0.03925260646300424)\n",
       "truncated_power_law     (-5.62500250094611, 0.0007962280119299114)\n",
       "stretched_exponential  (-4.8036988903523765, 0.030734338553940088)\n",
       "exponential                (7.127483649017502, 0.2644049286437692)"
      ]
     },
     "execution_count": 79,
     "metadata": {},
     "output_type": "execute_result"
    }
   ],
   "source": [
    "dataframes['south_america']"
   ]
  },
  {
   "cell_type": "code",
   "execution_count": 80,
   "metadata": {},
   "outputs": [
    {
     "data": {
      "text/html": [
       "<div>\n",
       "<style scoped>\n",
       "    .dataframe tbody tr th:only-of-type {\n",
       "        vertical-align: middle;\n",
       "    }\n",
       "\n",
       "    .dataframe tbody tr th {\n",
       "        vertical-align: top;\n",
       "    }\n",
       "\n",
       "    .dataframe thead th {\n",
       "        text-align: right;\n",
       "    }\n",
       "</style>\n",
       "<table border=\"1\" class=\"dataframe\">\n",
       "  <thead>\n",
       "    <tr style=\"text-align: right;\">\n",
       "      <th></th>\n",
       "      <th>exponential</th>\n",
       "      <th>lognormal</th>\n",
       "      <th>stretched_exponential</th>\n",
       "      <th>truncated_power_law</th>\n",
       "    </tr>\n",
       "  </thead>\n",
       "  <tbody>\n",
       "    <tr>\n",
       "      <th>power_law</th>\n",
       "      <td>(4.441109222771949, 0.0048783160935390426)</td>\n",
       "      <td>(16.88140856756464, 0.00019489668843982334)</td>\n",
       "      <td>(26.626170527776274, 1.4678119613158616e-06)</td>\n",
       "      <td>(2.9887885809204304, 0.014488892920699548)</td>\n",
       "    </tr>\n",
       "    <tr>\n",
       "      <th>lognormal</th>\n",
       "      <td>(-0.04205649458918925, 0.9513165516188873)</td>\n",
       "      <td>(-1, -1)</td>\n",
       "      <td>(0.7045305403741744, 0.478555392079012)</td>\n",
       "      <td>(-0.19281853073527389, 0.8046511395682101)</td>\n",
       "    </tr>\n",
       "    <tr>\n",
       "      <th>truncated_power_law</th>\n",
       "      <td>(0.47431050395764074, 0.1981792738071444)</td>\n",
       "      <td>(5.000527747116147, 0.0816731565651734)</td>\n",
       "      <td>(8.468652242271697, 0.013649017361785984)</td>\n",
       "      <td>(-1, -1)</td>\n",
       "    </tr>\n",
       "    <tr>\n",
       "      <th>stretched_exponential</th>\n",
       "      <td>(-0.4117257820479221, 0.36417293852852195)</td>\n",
       "      <td>(-0.18501774087856893, 0.8094536698702548)</td>\n",
       "      <td>(-1, -1)</td>\n",
       "      <td>(-0.5707379333428966, 0.5137168579559803)</td>\n",
       "    </tr>\n",
       "    <tr>\n",
       "      <th>exponential</th>\n",
       "      <td>(-1, -1)</td>\n",
       "      <td>(2.49379003829533, 0.25015232268531007)</td>\n",
       "      <td>(4.006523980853806, 0.00464415061602752)</td>\n",
       "      <td>(-0.3080041554765698, 0.32094487718972997)</td>\n",
       "    </tr>\n",
       "  </tbody>\n",
       "</table>\n",
       "</div>"
      ],
      "text/plain": [
       "                                                      exponential  \\\n",
       "power_law              (4.441109222771949, 0.0048783160935390426)   \n",
       "lognormal              (-0.04205649458918925, 0.9513165516188873)   \n",
       "truncated_power_law     (0.47431050395764074, 0.1981792738071444)   \n",
       "stretched_exponential  (-0.4117257820479221, 0.36417293852852195)   \n",
       "exponential                                              (-1, -1)   \n",
       "\n",
       "                                                         lognormal  \\\n",
       "power_law              (16.88140856756464, 0.00019489668843982334)   \n",
       "lognormal                                                 (-1, -1)   \n",
       "truncated_power_law        (5.000527747116147, 0.0816731565651734)   \n",
       "stretched_exponential   (-0.18501774087856893, 0.8094536698702548)   \n",
       "exponential                (2.49379003829533, 0.25015232268531007)   \n",
       "\n",
       "                                              stretched_exponential  \\\n",
       "power_law              (26.626170527776274, 1.4678119613158616e-06)   \n",
       "lognormal                   (0.7045305403741744, 0.478555392079012)   \n",
       "truncated_power_law       (8.468652242271697, 0.013649017361785984)   \n",
       "stretched_exponential                                      (-1, -1)   \n",
       "exponential                (4.006523980853806, 0.00464415061602752)   \n",
       "\n",
       "                                              truncated_power_law  \n",
       "power_law              (2.9887885809204304, 0.014488892920699548)  \n",
       "lognormal              (-0.19281853073527389, 0.8046511395682101)  \n",
       "truncated_power_law                                      (-1, -1)  \n",
       "stretched_exponential   (-0.5707379333428966, 0.5137168579559803)  \n",
       "exponential            (-0.3080041554765698, 0.32094487718972997)  "
      ]
     },
     "execution_count": 80,
     "metadata": {},
     "output_type": "execute_result"
    }
   ],
   "source": [
    "dataframes['middle_america_and_the_caribbean']"
   ]
  },
  {
   "cell_type": "code",
   "execution_count": 81,
   "metadata": {
    "scrolled": true
   },
   "outputs": [
    {
     "data": {
      "text/html": [
       "<div>\n",
       "<style scoped>\n",
       "    .dataframe tbody tr th:only-of-type {\n",
       "        vertical-align: middle;\n",
       "    }\n",
       "\n",
       "    .dataframe tbody tr th {\n",
       "        vertical-align: top;\n",
       "    }\n",
       "\n",
       "    .dataframe thead th {\n",
       "        text-align: right;\n",
       "    }\n",
       "</style>\n",
       "<table border=\"1\" class=\"dataframe\">\n",
       "  <thead>\n",
       "    <tr style=\"text-align: right;\">\n",
       "      <th></th>\n",
       "      <th>power_law</th>\n",
       "      <th>stretched_exponential</th>\n",
       "    </tr>\n",
       "  </thead>\n",
       "  <tbody>\n",
       "    <tr>\n",
       "      <th>power_law</th>\n",
       "      <td>(-1, -1)</td>\n",
       "      <td>(12.284270493379882, 0.0015390191071551524)</td>\n",
       "    </tr>\n",
       "    <tr>\n",
       "      <th>lognormal</th>\n",
       "      <td>(-0.03456535941157013, 0.8335290119032226)</td>\n",
       "      <td>(0.9751094462000667, 0.1512698089152126)</td>\n",
       "    </tr>\n",
       "    <tr>\n",
       "      <th>truncated_power_law</th>\n",
       "      <td>(-1, -1)</td>\n",
       "      <td>(6.246358779955285, 0.03442360657953599)</td>\n",
       "    </tr>\n",
       "    <tr>\n",
       "      <th>stretched_exponential</th>\n",
       "      <td>(-0.037673158447863786, 0.7906380773167774)</td>\n",
       "      <td>(-1, -1)</td>\n",
       "    </tr>\n",
       "    <tr>\n",
       "      <th>exponential</th>\n",
       "      <td>(-0.036706010445153314, 0.7809467091089781)</td>\n",
       "      <td>(4.787200632317676, 0.001973091900169255)</td>\n",
       "    </tr>\n",
       "  </tbody>\n",
       "</table>\n",
       "</div>"
      ],
      "text/plain": [
       "                                                         power_law  \\\n",
       "power_law                                                 (-1, -1)   \n",
       "lognormal               (-0.03456535941157013, 0.8335290119032226)   \n",
       "truncated_power_law                                       (-1, -1)   \n",
       "stretched_exponential  (-0.037673158447863786, 0.7906380773167774)   \n",
       "exponential            (-0.036706010445153314, 0.7809467091089781)   \n",
       "\n",
       "                                             stretched_exponential  \n",
       "power_law              (12.284270493379882, 0.0015390191071551524)  \n",
       "lognormal                 (0.9751094462000667, 0.1512698089152126)  \n",
       "truncated_power_law       (6.246358779955285, 0.03442360657953599)  \n",
       "stretched_exponential                                     (-1, -1)  \n",
       "exponential              (4.787200632317676, 0.001973091900169255)  "
      ]
     },
     "execution_count": 81,
     "metadata": {},
     "output_type": "execute_result"
    }
   ],
   "source": [
    "dataframes['middle_east']"
   ]
  },
  {
   "cell_type": "code",
   "execution_count": 111,
   "metadata": {
    "code_folding": [
     0
    ]
   },
   "outputs": [],
   "source": [
    "def sub_object_map(fit, model):\n",
    "    if model == 'exponential':\n",
    "        return fit.exponential\n",
    "    elif model == 'stretched_exponential':\n",
    "        return fit.stretched_exponential\n",
    "    elif model == 'lognormal':\n",
    "        return fit.stretched_exponential\n",
    "    elif model == 'truncated_powerlaw':\n",
    "        return fit.truncated_powerlaw\n",
    "    elif model == 'powerlaw':\n",
    "        return fit\n",
    "    else:\n",
    "        return -1"
   ]
  },
  {
   "cell_type": "code",
   "execution_count": 129,
   "metadata": {
    "code_folding": [
     0
    ]
   },
   "outputs": [],
   "source": [
    "def plot_ccdf(region, model, xmin=False):\n",
    "    distribution = dist_dict[model]\n",
    "    data = pd.read_csv(data_source+'rhythm_ranks_'+region+'.csv')\n",
    "    if xmin:\n",
    "        fit = pl.Fit(data.ranks, discrete=True, xmin=xmin)\n",
    "    else:\n",
    "        Fit = distribution(data.ranks)\n",
    "        fit = Fit.fit\n",
    "    fig = pl.plot_ccdf(color='r', data=fit.data_original, label=r'Empircal, no $x_{min}$')\n",
    "    pl.plot_ccdf(color='b', data=fit.data, ax=fig, label=r'Empircal, $x_{min} = %s$' % fit.xmin)\n",
    "    obj = sub_object_map(fit, model)\n",
    "    obj.plot_ccdf(color='b', linestyle='--', ax=fig)\n",
    "    fig.set_ylabel(\"p(X ≥ x)\")\n",
    "    fig.set_xlabel('rank')\n",
    "    fig.set_title('Complementary CDF of bigram ranks')\n",
    "    handles, labels = fig.get_legend_handles_labels()\n",
    "    leg = fig.legend(handles, labels, loc=3)\n",
    "    leg.draw_frame(False)"
   ]
  }
 ],
 "metadata": {
  "kernelspec": {
   "display_name": "Python 3",
   "language": "python",
   "name": "python3"
  },
  "language_info": {
   "codemirror_mode": {
    "name": "ipython",
    "version": 3
   },
   "file_extension": ".py",
   "mimetype": "text/x-python",
   "name": "python",
   "nbconvert_exporter": "python",
   "pygments_lexer": "ipython3",
   "version": "3.7.6"
  }
 },
 "nbformat": 4,
 "nbformat_minor": 4
}
